{
 "cells": [
  {
   "cell_type": "code",
   "execution_count": 37,
   "id": "35836dd9-6d51-4505-8ed1-478cd7fa554e",
   "metadata": {},
   "outputs": [],
   "source": [
    "import pandas as pd\n",
    "import numpy as np\n",
    "from sklearn.metrics.pairwise import cosine_similarity\n",
    "from sklearn.preprocessing import StandardScaler"
   ]
  },
  {
   "cell_type": "code",
   "execution_count": 38,
   "id": "96b9c157-91ff-4396-b6ab-3c9bdb7b43b7",
   "metadata": {},
   "outputs": [],
   "source": [
    "# Load the datasets\n",
    "customers_df = pd.read_csv('Customers.csv')\n",
    "products_df = pd.read_csv('Products.csv')\n",
    "transactions_df = pd.read_csv('Transactions.csv')\n"
   ]
  },
  {
   "cell_type": "code",
   "execution_count": 39,
   "id": "118db3d0-17aa-4ab3-b14c-d90dbd84e217",
   "metadata": {},
   "outputs": [
    {
     "name": "stdout",
     "output_type": "stream",
     "text": [
      "  CustomerID        CustomerName         Region  SignupDate\n",
      "0      C0001    Lawrence Carroll  South America  2022-07-10\n",
      "1      C0002      Elizabeth Lutz           Asia  2022-02-13\n",
      "2      C0003      Michael Rivera  South America  2024-03-07\n",
      "3      C0004  Kathleen Rodriguez  South America  2022-10-09\n",
      "4      C0005         Laura Weber           Asia  2022-08-15\n",
      "  ProductID              ProductName     Category   Price\n",
      "0      P001     ActiveWear Biography        Books  169.30\n",
      "1      P002    ActiveWear Smartwatch  Electronics  346.30\n",
      "2      P003  ComfortLiving Biography        Books   44.12\n",
      "3      P004            BookWorld Rug   Home Decor   95.69\n",
      "4      P005          TechPro T-Shirt     Clothing  429.31\n",
      "  TransactionID CustomerID ProductID      TransactionDate  Quantity  \\\n",
      "0        T00001      C0199      P067  2024-08-25 12:38:23         1   \n",
      "1        T00112      C0146      P067  2024-05-27 22:23:54         1   \n",
      "2        T00166      C0127      P067  2024-04-25 07:38:55         1   \n",
      "3        T00272      C0087      P067  2024-03-26 22:55:37         2   \n",
      "4        T00363      C0070      P067  2024-03-21 15:10:10         3   \n",
      "\n",
      "   TotalValue   Price  \n",
      "0      300.68  300.68  \n",
      "1      300.68  300.68  \n",
      "2      300.68  300.68  \n",
      "3      601.36  300.68  \n",
      "4      902.04  300.68  \n"
     ]
    }
   ],
   "source": [
    "# Preview the datasets\n",
    "print(customers_df.head())\n",
    "print(products_df.head())\n",
    "print(transactions_df.head())"
   ]
  },
  {
   "cell_type": "code",
   "execution_count": 55,
   "id": "cb766e20-a45f-46cb-802b-86750d4d656f",
   "metadata": {},
   "outputs": [],
   "source": [
    "# Merge transactions with customer and product information\n",
    "merged_df = transactions_df.merge(customers_df, on='CustomerID').merge(products_df, on='ProductID')"
   ]
  },
  {
   "cell_type": "code",
   "execution_count": 56,
   "id": "449e4aea-5ced-4d73-a72c-ef0f845c3fd6",
   "metadata": {},
   "outputs": [],
   "source": [
    "# Feature engineering: Aggregate features for each customer\n",
    "customer_features = merged_df.groupby('CustomerID').agg({\n",
    "    'TotalValue': 'sum',        \n",
    "    'Quantity': 'sum',          \n",
    "    'ProductID': 'nunique'       # Number of unique products bought\n",
    "}).reset_index()"
   ]
  },
  {
   "cell_type": "code",
   "execution_count": 42,
   "id": "edd4122a-7fc9-4c06-9b71-1f3c5aa137b4",
   "metadata": {},
   "outputs": [],
   "source": [
    "# Merge additional customer demographic data\n",
    "customer_features = customer_features.merge(customers_df[['CustomerID', 'Region']], on='CustomerID')"
   ]
  },
  {
   "cell_type": "code",
   "execution_count": 43,
   "id": "534ecfc0-acb7-4eb6-9172-35f23e111f95",
   "metadata": {},
   "outputs": [
    {
     "name": "stdout",
     "output_type": "stream",
     "text": [
      "  CustomerID  TotalValue  Quantity  ProductID         Region\n",
      "0      C0001     3354.52        12          5  South America\n",
      "1      C0002     1862.74        10          4           Asia\n",
      "2      C0003     2725.38        14          4  South America\n",
      "3      C0004     5354.88        23          8  South America\n",
      "4      C0005     2034.24         7          3           Asia\n"
     ]
    }
   ],
   "source": [
    "# Preview the new customer feature table\n",
    "print(customer_features.head())"
   ]
  },
  {
   "cell_type": "code",
   "execution_count": 44,
   "id": "6bd78e98-acf9-485b-bb82-b62285192dd1",
   "metadata": {},
   "outputs": [],
   "source": [
    "# Normalize the features to bring them to the same scale\n",
    "scaler = StandardScaler()\n",
    "customer_features[['TotalValue', 'Quantity', 'ProductID']] = scaler.fit_transform(customer_features[['TotalValue', 'Quantity', 'ProductID']])"
   ]
  },
  {
   "cell_type": "code",
   "execution_count": 45,
   "id": "504da165-991e-4d85-a455-cf10be9351a8",
   "metadata": {},
   "outputs": [
    {
     "name": "stdout",
     "output_type": "stream",
     "text": [
      "  CustomerID  TotalValue  Quantity  ProductID         Region\n",
      "0      C0001   -0.061701 -0.122033   0.050047  South America\n",
      "1      C0002   -0.877744 -0.448000  -0.424204           Asia\n",
      "2      C0003   -0.405857  0.203934  -0.424204  South America\n",
      "3      C0004    1.032547  1.670787   1.472798  South America\n",
      "4      C0005   -0.783929 -0.936951  -0.898455           Asia\n"
     ]
    }
   ],
   "source": [
    "# Preview normalized data\n",
    "print(customer_features.head())"
   ]
  },
  {
   "cell_type": "code",
   "execution_count": 46,
   "id": "73518d19-dce9-43eb-b4de-cb2cb934e0ac",
   "metadata": {},
   "outputs": [],
   "source": [
    "# Calculate cosine similarity between customers based on their features\n",
    "cosine_sim = cosine_similarity(customer_features[['TotalValue', 'Quantity', 'ProductID']])"
   ]
  },
  {
   "cell_type": "code",
   "execution_count": 47,
   "id": "f0f9f6d4-174a-4719-9502-b93300646ff0",
   "metadata": {},
   "outputs": [
    {
     "name": "stdout",
     "output_type": "stream",
     "text": [
      "[[ 1.          0.5607095  -0.23287112 -0.54238771  0.53321413]\n",
      " [ 0.5607095   1.          0.66710809 -0.86548378  0.91517034]\n",
      " [-0.23287112  0.66710809  1.         -0.46082499  0.53923518]\n",
      " [-0.54238771 -0.86548378 -0.46082499  1.         -0.99336347]\n",
      " [ 0.53321413  0.91517034  0.53923518 -0.99336347  1.        ]]\n"
     ]
    }
   ],
   "source": [
    "# Preview the cosine similarity matrix\n",
    "print(cosine_sim[:5, :5]) "
   ]
  },
  {
   "cell_type": "code",
   "execution_count": 48,
   "id": "4c6568c8-8d79-4589-804c-a046fa236069",
   "metadata": {},
   "outputs": [],
   "source": [
    "# Function to get the top 3 lookalikes for a given customer\n",
    "def get_top_lookalikes(customer_id, top_n=3):\n",
    "    idx = customer_features[customer_features['CustomerID'] == customer_id].index[0]\n",
    "    similarity_scores = list(enumerate(cosine_sim[idx]))\n",
    "    similarity_scores = sorted(similarity_scores, key=lambda x: x[1], reverse=True)\n",
    "    top_lookalikes = [(customer_features['CustomerID'][i[0]], i[1]) for i in similarity_scores[1:top_n+1]]  # Exclude self similarity\n",
    "    return top_lookalikes"
   ]
  },
  {
   "cell_type": "code",
   "execution_count": 49,
   "id": "2299a533-f2ca-4fbb-9979-cfcc664cc0e0",
   "metadata": {},
   "outputs": [],
   "source": [
    "# Get lookalikes for the first 20 customers (C0001 - C0020)\n",
    "lookalike_data = []\n",
    "for customer_id in customer_features['CustomerID'][:20]:\n",
    "    lookalikes = get_top_lookalikes(customer_id)\n",
    "    for lookalike in lookalikes:\n",
    "        lookalike_data.append({'CustomerID': customer_id, 'LookalikeID': lookalike[0], 'SimilarityScore': lookalike[1]})"
   ]
  },
  {
   "cell_type": "code",
   "execution_count": 50,
   "id": "9e874d34-b32e-4dec-906d-bf9723709e15",
   "metadata": {},
   "outputs": [],
   "source": [
    "# Convert the results to a DataFrame\n",
    "lookalike_df = pd.DataFrame(lookalike_data)"
   ]
  },
  {
   "cell_type": "code",
   "execution_count": 51,
   "id": "dbe4eebd-0faf-4929-b4cc-a7e014b2aa71",
   "metadata": {},
   "outputs": [
    {
     "name": "stdout",
     "output_type": "stream",
     "text": [
      "  CustomerID LookalikeID  SimilarityScore\n",
      "0      C0001       C0164         0.968410\n",
      "1      C0001       C0137         0.962081\n",
      "2      C0001       C0069         0.955071\n",
      "3      C0002       C0029         0.999762\n",
      "4      C0002       C0031         0.999013\n"
     ]
    }
   ],
   "source": [
    "# Preview the lookalike recommendations\n",
    "print(lookalike_df.head())"
   ]
  },
  {
   "cell_type": "code",
   "execution_count": 52,
   "id": "fb70f0ac-45e6-4e69-a651-d3249f5ba3f1",
   "metadata": {},
   "outputs": [],
   "source": [
    "# Save the Lookalike recommendations to a CSV\n",
    "lookalike_df.to_csv('Lookalike.csv', index=False)"
   ]
  },
  {
   "cell_type": "code",
   "execution_count": 53,
   "id": "03fa98c4-8f26-4060-b2c2-8aa8b2a57e1e",
   "metadata": {},
   "outputs": [
    {
     "data": {
      "text/html": [
       "<div>\n",
       "<style scoped>\n",
       "    .dataframe tbody tr th:only-of-type {\n",
       "        vertical-align: middle;\n",
       "    }\n",
       "\n",
       "    .dataframe tbody tr th {\n",
       "        vertical-align: top;\n",
       "    }\n",
       "\n",
       "    .dataframe thead th {\n",
       "        text-align: right;\n",
       "    }\n",
       "</style>\n",
       "<table border=\"1\" class=\"dataframe\">\n",
       "  <thead>\n",
       "    <tr style=\"text-align: right;\">\n",
       "      <th></th>\n",
       "      <th>CustomerID</th>\n",
       "      <th>LookalikeID</th>\n",
       "      <th>SimilarityScore</th>\n",
       "    </tr>\n",
       "  </thead>\n",
       "  <tbody>\n",
       "    <tr>\n",
       "      <th>0</th>\n",
       "      <td>C0001</td>\n",
       "      <td>C0164</td>\n",
       "      <td>0.968410</td>\n",
       "    </tr>\n",
       "    <tr>\n",
       "      <th>1</th>\n",
       "      <td>C0001</td>\n",
       "      <td>C0137</td>\n",
       "      <td>0.962081</td>\n",
       "    </tr>\n",
       "    <tr>\n",
       "      <th>2</th>\n",
       "      <td>C0001</td>\n",
       "      <td>C0069</td>\n",
       "      <td>0.955071</td>\n",
       "    </tr>\n",
       "    <tr>\n",
       "      <th>3</th>\n",
       "      <td>C0002</td>\n",
       "      <td>C0029</td>\n",
       "      <td>0.999762</td>\n",
       "    </tr>\n",
       "    <tr>\n",
       "      <th>4</th>\n",
       "      <td>C0002</td>\n",
       "      <td>C0031</td>\n",
       "      <td>0.999013</td>\n",
       "    </tr>\n",
       "  </tbody>\n",
       "</table>\n",
       "</div>"
      ],
      "text/plain": [
       "  CustomerID LookalikeID  SimilarityScore\n",
       "0      C0001       C0164         0.968410\n",
       "1      C0001       C0137         0.962081\n",
       "2      C0001       C0069         0.955071\n",
       "3      C0002       C0029         0.999762\n",
       "4      C0002       C0031         0.999013"
      ]
     },
     "execution_count": 53,
     "metadata": {},
     "output_type": "execute_result"
    }
   ],
   "source": [
    "# Preview the saved file\n",
    "lookalike_df.head()"
   ]
  },
  {
   "cell_type": "code",
   "execution_count": null,
   "id": "738d4a1d-1729-4ce4-823b-92d9a2afca61",
   "metadata": {},
   "outputs": [],
   "source": []
  }
 ],
 "metadata": {
  "kernelspec": {
   "display_name": "Python 3 (ipykernel)",
   "language": "python",
   "name": "python3"
  },
  "language_info": {
   "codemirror_mode": {
    "name": "ipython",
    "version": 3
   },
   "file_extension": ".py",
   "mimetype": "text/x-python",
   "name": "python",
   "nbconvert_exporter": "python",
   "pygments_lexer": "ipython3",
   "version": "3.11.4"
  }
 },
 "nbformat": 4,
 "nbformat_minor": 5
}
